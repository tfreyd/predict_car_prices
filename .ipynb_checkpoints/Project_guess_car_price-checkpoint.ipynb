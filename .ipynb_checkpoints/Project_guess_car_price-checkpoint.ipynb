{
 "cells": [
  {
   "cell_type": "markdown",
   "metadata": {},
   "source": [
    "## Predicting car price with Ebay data and K-Nearest Neighbor Regression\n",
    "\n",
    "#### **Aim:** guess price'car based on its attributes using a linear regression method trained with data from Ebay sales car data\n",
    "- The dataset can be found [there](https://archive.ics.uci.edu/ml/machine-learning-databases/autos/imports-85.data) and more information [here](https://archive.ics.uci.edu/ml/datasets/automobile)\n",
    "\n",
    "\n",
    "- the different columns of the dataset:\n",
    "    1. symboling: -3, -2, -1, 0, 1, 2, 3 (A value of +3 indicates that the auto is risky, -3 that it is probably pretty safe.) \n",
    "    2. normalized-losses: continuous from 65 to 256.\n",
    "    3. make:\n",
    "                alfa-romero, audi, bmw, chevrolet, dodge, honda,\n",
    "                isuzu, jaguar, mazda, mercedes-benz, mercury,\n",
    "                mitsubishi, nissan, peugot, plymouth, porsche,\n",
    "                renault, saab, subaru, toyota, volkswagen, volvo\n",
    "\n",
    "    4. fuel-type: diesel, gas.\n",
    "    5. aspiration: std, turbo.\n",
    "    6. num-of-doors: four, two.\n",
    "    7. body-style: hardtop, wagon, sedan, hatchback, convertible.\n",
    "    8. drive-wheels: 4wd, fwd, rwd.\n",
    "    9. engine-location: front, rear.\n",
    "    10. wheel-base: continuous from 86.6 120.9.\n",
    "    11. length: continuous from 141.1 to 208.1.\n",
    "    12. width: continuous from 60.3 to 72.3.\n",
    "    13. height: continuous from 47.8 to 59.8.\n",
    "    14. curb-weight: continuous from 1488 to 4066.\n",
    "    15. engine-type: dohc, dohcv, l, ohc, ohcf, ohcv, rotor.\n",
    "    16. num-of-cylinders: eight, five, four, six, three, twelve, two.\n",
    "    17. engine-size: continuous from 61 to 326.\n",
    "    18. fuel-system: 1bbl, 2bbl, 4bbl, idi, mfi, mpfi, spdi, spfi.\n",
    "    19. bore: continuous from 2.54 to 3.94.\n",
    "    20. stroke: continuous from 2.07 to 4.17.\n",
    "    21. compression-ratio: continuous from 7 to 23.\n",
    "    22. horsepower: continuous from 48 to 288.\n",
    "    23. peak-rpm: continuous from 4150 to 6600.\n",
    "    24. city-mpg: continuous from 13 to 49.\n",
    "    25. highway-mpg: continuous from 16 to 54.\n",
    "    26. price: continuous from 5118 to 45400.\n"
   ]
  },
  {
   "cell_type": "code",
   "execution_count": 1,
   "metadata": {},
   "outputs": [],
   "source": [
    "import pandas as pd\n",
    "import numpy as np\n",
    "import matplotlib.pyplot as plt\n",
    "pd.set_option('display.max_columns', 500)"
   ]
  },
  {
   "cell_type": "markdown",
   "metadata": {},
   "source": [
    "## Data exploration and cleaning"
   ]
  },
  {
   "cell_type": "code",
   "execution_count": 2,
   "metadata": {
    "tags": []
   },
   "outputs": [
    {
     "data": {
      "text/plain": [
       "26"
      ]
     },
     "execution_count": 2,
     "metadata": {},
     "output_type": "execute_result"
    }
   ],
   "source": [
    "#fixing the columns name\n",
    "col_names=[\"symboling\",\"normalized_losses\",\"brand\", \"fuel\",\"aspiration\",\"doors\",\"body_style\",\"drive_wheels\",\"eng_loc\",\"wheel_base\",\"lenght\",\"width\",\"height\",\"curb_weight\",\"eng_type\",\"cylinders\",\"eng_size\",\"fuel_system\",\"bore\",\"stroke\",\"compression_ratio\",\"horsepower\",\"peak_rpm\",\"city_mpg\",\"highway_mpg\",\"price\"]\n",
    "len(col_names)"
   ]
  },
  {
   "cell_type": "code",
   "execution_count": 3,
   "metadata": {},
   "outputs": [],
   "source": [
    "cars=pd.read_csv(\"imports-85.data\",names=col_names)"
   ]
  },
  {
   "cell_type": "code",
   "execution_count": 4,
   "metadata": {},
   "outputs": [
    {
     "data": {
      "text/html": [
       "<div>\n",
       "<style scoped>\n",
       "    .dataframe tbody tr th:only-of-type {\n",
       "        vertical-align: middle;\n",
       "    }\n",
       "\n",
       "    .dataframe tbody tr th {\n",
       "        vertical-align: top;\n",
       "    }\n",
       "\n",
       "    .dataframe thead th {\n",
       "        text-align: right;\n",
       "    }\n",
       "</style>\n",
       "<table border=\"1\" class=\"dataframe\">\n",
       "  <thead>\n",
       "    <tr style=\"text-align: right;\">\n",
       "      <th></th>\n",
       "      <th>symboling</th>\n",
       "      <th>normalized_losses</th>\n",
       "      <th>brand</th>\n",
       "      <th>fuel</th>\n",
       "      <th>aspiration</th>\n",
       "      <th>doors</th>\n",
       "      <th>body_style</th>\n",
       "      <th>drive_wheels</th>\n",
       "      <th>eng_loc</th>\n",
       "      <th>wheel_base</th>\n",
       "      <th>lenght</th>\n",
       "      <th>width</th>\n",
       "      <th>height</th>\n",
       "      <th>curb_weight</th>\n",
       "      <th>eng_type</th>\n",
       "      <th>cylinders</th>\n",
       "      <th>eng_size</th>\n",
       "      <th>fuel_system</th>\n",
       "      <th>bore</th>\n",
       "      <th>stroke</th>\n",
       "      <th>compression_ratio</th>\n",
       "      <th>horsepower</th>\n",
       "      <th>peak_rpm</th>\n",
       "      <th>city_mpg</th>\n",
       "      <th>highway_mpg</th>\n",
       "      <th>price</th>\n",
       "    </tr>\n",
       "  </thead>\n",
       "  <tbody>\n",
       "    <tr>\n",
       "      <th>0</th>\n",
       "      <td>3</td>\n",
       "      <td>?</td>\n",
       "      <td>alfa-romero</td>\n",
       "      <td>gas</td>\n",
       "      <td>std</td>\n",
       "      <td>two</td>\n",
       "      <td>convertible</td>\n",
       "      <td>rwd</td>\n",
       "      <td>front</td>\n",
       "      <td>88.6</td>\n",
       "      <td>168.8</td>\n",
       "      <td>64.1</td>\n",
       "      <td>48.8</td>\n",
       "      <td>2548</td>\n",
       "      <td>dohc</td>\n",
       "      <td>four</td>\n",
       "      <td>130</td>\n",
       "      <td>mpfi</td>\n",
       "      <td>3.47</td>\n",
       "      <td>2.68</td>\n",
       "      <td>9.0</td>\n",
       "      <td>111</td>\n",
       "      <td>5000</td>\n",
       "      <td>21</td>\n",
       "      <td>27</td>\n",
       "      <td>13495</td>\n",
       "    </tr>\n",
       "    <tr>\n",
       "      <th>1</th>\n",
       "      <td>3</td>\n",
       "      <td>?</td>\n",
       "      <td>alfa-romero</td>\n",
       "      <td>gas</td>\n",
       "      <td>std</td>\n",
       "      <td>two</td>\n",
       "      <td>convertible</td>\n",
       "      <td>rwd</td>\n",
       "      <td>front</td>\n",
       "      <td>88.6</td>\n",
       "      <td>168.8</td>\n",
       "      <td>64.1</td>\n",
       "      <td>48.8</td>\n",
       "      <td>2548</td>\n",
       "      <td>dohc</td>\n",
       "      <td>four</td>\n",
       "      <td>130</td>\n",
       "      <td>mpfi</td>\n",
       "      <td>3.47</td>\n",
       "      <td>2.68</td>\n",
       "      <td>9.0</td>\n",
       "      <td>111</td>\n",
       "      <td>5000</td>\n",
       "      <td>21</td>\n",
       "      <td>27</td>\n",
       "      <td>16500</td>\n",
       "    </tr>\n",
       "    <tr>\n",
       "      <th>2</th>\n",
       "      <td>1</td>\n",
       "      <td>?</td>\n",
       "      <td>alfa-romero</td>\n",
       "      <td>gas</td>\n",
       "      <td>std</td>\n",
       "      <td>two</td>\n",
       "      <td>hatchback</td>\n",
       "      <td>rwd</td>\n",
       "      <td>front</td>\n",
       "      <td>94.5</td>\n",
       "      <td>171.2</td>\n",
       "      <td>65.5</td>\n",
       "      <td>52.4</td>\n",
       "      <td>2823</td>\n",
       "      <td>ohcv</td>\n",
       "      <td>six</td>\n",
       "      <td>152</td>\n",
       "      <td>mpfi</td>\n",
       "      <td>2.68</td>\n",
       "      <td>3.47</td>\n",
       "      <td>9.0</td>\n",
       "      <td>154</td>\n",
       "      <td>5000</td>\n",
       "      <td>19</td>\n",
       "      <td>26</td>\n",
       "      <td>16500</td>\n",
       "    </tr>\n",
       "    <tr>\n",
       "      <th>3</th>\n",
       "      <td>2</td>\n",
       "      <td>164</td>\n",
       "      <td>audi</td>\n",
       "      <td>gas</td>\n",
       "      <td>std</td>\n",
       "      <td>four</td>\n",
       "      <td>sedan</td>\n",
       "      <td>fwd</td>\n",
       "      <td>front</td>\n",
       "      <td>99.8</td>\n",
       "      <td>176.6</td>\n",
       "      <td>66.2</td>\n",
       "      <td>54.3</td>\n",
       "      <td>2337</td>\n",
       "      <td>ohc</td>\n",
       "      <td>four</td>\n",
       "      <td>109</td>\n",
       "      <td>mpfi</td>\n",
       "      <td>3.19</td>\n",
       "      <td>3.40</td>\n",
       "      <td>10.0</td>\n",
       "      <td>102</td>\n",
       "      <td>5500</td>\n",
       "      <td>24</td>\n",
       "      <td>30</td>\n",
       "      <td>13950</td>\n",
       "    </tr>\n",
       "    <tr>\n",
       "      <th>4</th>\n",
       "      <td>2</td>\n",
       "      <td>164</td>\n",
       "      <td>audi</td>\n",
       "      <td>gas</td>\n",
       "      <td>std</td>\n",
       "      <td>four</td>\n",
       "      <td>sedan</td>\n",
       "      <td>4wd</td>\n",
       "      <td>front</td>\n",
       "      <td>99.4</td>\n",
       "      <td>176.6</td>\n",
       "      <td>66.4</td>\n",
       "      <td>54.3</td>\n",
       "      <td>2824</td>\n",
       "      <td>ohc</td>\n",
       "      <td>five</td>\n",
       "      <td>136</td>\n",
       "      <td>mpfi</td>\n",
       "      <td>3.19</td>\n",
       "      <td>3.40</td>\n",
       "      <td>8.0</td>\n",
       "      <td>115</td>\n",
       "      <td>5500</td>\n",
       "      <td>18</td>\n",
       "      <td>22</td>\n",
       "      <td>17450</td>\n",
       "    </tr>\n",
       "  </tbody>\n",
       "</table>\n",
       "</div>"
      ],
      "text/plain": [
       "   symboling normalized_losses        brand fuel aspiration doors  \\\n",
       "0          3                 ?  alfa-romero  gas        std   two   \n",
       "1          3                 ?  alfa-romero  gas        std   two   \n",
       "2          1                 ?  alfa-romero  gas        std   two   \n",
       "3          2               164         audi  gas        std  four   \n",
       "4          2               164         audi  gas        std  four   \n",
       "\n",
       "    body_style drive_wheels eng_loc  wheel_base  lenght  width  height  \\\n",
       "0  convertible          rwd   front        88.6   168.8   64.1    48.8   \n",
       "1  convertible          rwd   front        88.6   168.8   64.1    48.8   \n",
       "2    hatchback          rwd   front        94.5   171.2   65.5    52.4   \n",
       "3        sedan          fwd   front        99.8   176.6   66.2    54.3   \n",
       "4        sedan          4wd   front        99.4   176.6   66.4    54.3   \n",
       "\n",
       "   curb_weight eng_type cylinders  eng_size fuel_system  bore stroke  \\\n",
       "0         2548     dohc      four       130        mpfi  3.47   2.68   \n",
       "1         2548     dohc      four       130        mpfi  3.47   2.68   \n",
       "2         2823     ohcv       six       152        mpfi  2.68   3.47   \n",
       "3         2337      ohc      four       109        mpfi  3.19   3.40   \n",
       "4         2824      ohc      five       136        mpfi  3.19   3.40   \n",
       "\n",
       "   compression_ratio horsepower peak_rpm  city_mpg  highway_mpg  price  \n",
       "0                9.0        111     5000        21           27  13495  \n",
       "1                9.0        111     5000        21           27  16500  \n",
       "2                9.0        154     5000        19           26  16500  \n",
       "3               10.0        102     5500        24           30  13950  \n",
       "4                8.0        115     5500        18           22  17450  "
      ]
     },
     "execution_count": 4,
     "metadata": {},
     "output_type": "execute_result"
    }
   ],
   "source": [
    "cars.head()"
   ]
  },
  {
   "cell_type": "code",
   "execution_count": 5,
   "metadata": {},
   "outputs": [
    {
     "data": {
      "text/html": [
       "<div>\n",
       "<style scoped>\n",
       "    .dataframe tbody tr th:only-of-type {\n",
       "        vertical-align: middle;\n",
       "    }\n",
       "\n",
       "    .dataframe tbody tr th {\n",
       "        vertical-align: top;\n",
       "    }\n",
       "\n",
       "    .dataframe thead th {\n",
       "        text-align: right;\n",
       "    }\n",
       "</style>\n",
       "<table border=\"1\" class=\"dataframe\">\n",
       "  <thead>\n",
       "    <tr style=\"text-align: right;\">\n",
       "      <th></th>\n",
       "      <th>symboling</th>\n",
       "      <th>wheel_base</th>\n",
       "      <th>lenght</th>\n",
       "      <th>width</th>\n",
       "      <th>height</th>\n",
       "      <th>curb_weight</th>\n",
       "      <th>eng_size</th>\n",
       "      <th>compression_ratio</th>\n",
       "      <th>city_mpg</th>\n",
       "      <th>highway_mpg</th>\n",
       "    </tr>\n",
       "  </thead>\n",
       "  <tbody>\n",
       "    <tr>\n",
       "      <th>count</th>\n",
       "      <td>205.000000</td>\n",
       "      <td>205.000000</td>\n",
       "      <td>205.000000</td>\n",
       "      <td>205.000000</td>\n",
       "      <td>205.000000</td>\n",
       "      <td>205.000000</td>\n",
       "      <td>205.000000</td>\n",
       "      <td>205.000000</td>\n",
       "      <td>205.000000</td>\n",
       "      <td>205.000000</td>\n",
       "    </tr>\n",
       "    <tr>\n",
       "      <th>mean</th>\n",
       "      <td>0.834146</td>\n",
       "      <td>98.756585</td>\n",
       "      <td>174.049268</td>\n",
       "      <td>65.907805</td>\n",
       "      <td>53.724878</td>\n",
       "      <td>2555.565854</td>\n",
       "      <td>126.907317</td>\n",
       "      <td>10.142537</td>\n",
       "      <td>25.219512</td>\n",
       "      <td>30.751220</td>\n",
       "    </tr>\n",
       "    <tr>\n",
       "      <th>std</th>\n",
       "      <td>1.245307</td>\n",
       "      <td>6.021776</td>\n",
       "      <td>12.337289</td>\n",
       "      <td>2.145204</td>\n",
       "      <td>2.443522</td>\n",
       "      <td>520.680204</td>\n",
       "      <td>41.642693</td>\n",
       "      <td>3.972040</td>\n",
       "      <td>6.542142</td>\n",
       "      <td>6.886443</td>\n",
       "    </tr>\n",
       "    <tr>\n",
       "      <th>min</th>\n",
       "      <td>-2.000000</td>\n",
       "      <td>86.600000</td>\n",
       "      <td>141.100000</td>\n",
       "      <td>60.300000</td>\n",
       "      <td>47.800000</td>\n",
       "      <td>1488.000000</td>\n",
       "      <td>61.000000</td>\n",
       "      <td>7.000000</td>\n",
       "      <td>13.000000</td>\n",
       "      <td>16.000000</td>\n",
       "    </tr>\n",
       "    <tr>\n",
       "      <th>25%</th>\n",
       "      <td>0.000000</td>\n",
       "      <td>94.500000</td>\n",
       "      <td>166.300000</td>\n",
       "      <td>64.100000</td>\n",
       "      <td>52.000000</td>\n",
       "      <td>2145.000000</td>\n",
       "      <td>97.000000</td>\n",
       "      <td>8.600000</td>\n",
       "      <td>19.000000</td>\n",
       "      <td>25.000000</td>\n",
       "    </tr>\n",
       "    <tr>\n",
       "      <th>50%</th>\n",
       "      <td>1.000000</td>\n",
       "      <td>97.000000</td>\n",
       "      <td>173.200000</td>\n",
       "      <td>65.500000</td>\n",
       "      <td>54.100000</td>\n",
       "      <td>2414.000000</td>\n",
       "      <td>120.000000</td>\n",
       "      <td>9.000000</td>\n",
       "      <td>24.000000</td>\n",
       "      <td>30.000000</td>\n",
       "    </tr>\n",
       "    <tr>\n",
       "      <th>75%</th>\n",
       "      <td>2.000000</td>\n",
       "      <td>102.400000</td>\n",
       "      <td>183.100000</td>\n",
       "      <td>66.900000</td>\n",
       "      <td>55.500000</td>\n",
       "      <td>2935.000000</td>\n",
       "      <td>141.000000</td>\n",
       "      <td>9.400000</td>\n",
       "      <td>30.000000</td>\n",
       "      <td>34.000000</td>\n",
       "    </tr>\n",
       "    <tr>\n",
       "      <th>max</th>\n",
       "      <td>3.000000</td>\n",
       "      <td>120.900000</td>\n",
       "      <td>208.100000</td>\n",
       "      <td>72.300000</td>\n",
       "      <td>59.800000</td>\n",
       "      <td>4066.000000</td>\n",
       "      <td>326.000000</td>\n",
       "      <td>23.000000</td>\n",
       "      <td>49.000000</td>\n",
       "      <td>54.000000</td>\n",
       "    </tr>\n",
       "  </tbody>\n",
       "</table>\n",
       "</div>"
      ],
      "text/plain": [
       "        symboling  wheel_base      lenght       width      height  \\\n",
       "count  205.000000  205.000000  205.000000  205.000000  205.000000   \n",
       "mean     0.834146   98.756585  174.049268   65.907805   53.724878   \n",
       "std      1.245307    6.021776   12.337289    2.145204    2.443522   \n",
       "min     -2.000000   86.600000  141.100000   60.300000   47.800000   \n",
       "25%      0.000000   94.500000  166.300000   64.100000   52.000000   \n",
       "50%      1.000000   97.000000  173.200000   65.500000   54.100000   \n",
       "75%      2.000000  102.400000  183.100000   66.900000   55.500000   \n",
       "max      3.000000  120.900000  208.100000   72.300000   59.800000   \n",
       "\n",
       "       curb_weight    eng_size  compression_ratio    city_mpg  highway_mpg  \n",
       "count   205.000000  205.000000         205.000000  205.000000   205.000000  \n",
       "mean   2555.565854  126.907317          10.142537   25.219512    30.751220  \n",
       "std     520.680204   41.642693           3.972040    6.542142     6.886443  \n",
       "min    1488.000000   61.000000           7.000000   13.000000    16.000000  \n",
       "25%    2145.000000   97.000000           8.600000   19.000000    25.000000  \n",
       "50%    2414.000000  120.000000           9.000000   24.000000    30.000000  \n",
       "75%    2935.000000  141.000000           9.400000   30.000000    34.000000  \n",
       "max    4066.000000  326.000000          23.000000   49.000000    54.000000  "
      ]
     },
     "execution_count": 5,
     "metadata": {},
     "output_type": "execute_result"
    }
   ],
   "source": [
    "cars.describe()"
   ]
  },
  {
   "cell_type": "code",
   "execution_count": 6,
   "metadata": {},
   "outputs": [
    {
     "data": {
      "text/plain": [
       "Index(['symboling', 'wheel_base', 'lenght', 'width', 'height', 'curb_weight',\n",
       "       'eng_size', 'compression_ratio', 'city_mpg', 'highway_mpg'],\n",
       "      dtype='object')"
      ]
     },
     "execution_count": 6,
     "metadata": {},
     "output_type": "execute_result"
    }
   ],
   "source": [
    "cars.describe().columns"
   ]
  },
  {
   "cell_type": "code",
   "execution_count": 7,
   "metadata": {
    "tags": []
   },
   "outputs": [
    {
     "data": {
      "image/png": "[encoded data removed]",
      "text/plain": [
       "<Figure size 432x288 with 1 Axes>"
      ]
     },
     "metadata": {
      "needs_background": "light"
     },
     "output_type": "display_data"
    },
    {
     "data": {
      "image/png": "[encoded data removed]",
      "text/plain": [
       "<Figure size 432x288 with 1 Axes>"
      ]
     },
     "metadata": {
      "needs_background": "light"
     },
     "output_type": "display_data"
    },
    {
     "data": {
      "image/png": "[encoded data removed]",
      "text/plain": [
       "<Figure size 432x288 with 1 Axes>"
      ]
     },
     "metadata": {
      "needs_background": "light"
     },
     "output_type": "display_data"
    },
    {
     "data": {
      "image/png": "[encoded data removed]",
      "text/plain": [
       "<Figure size 432x288 with 1 Axes>"
      ]
     },
     "metadata": {
      "needs_background": "light"
     },
     "output_type": "display_data"
    },
    {
     "data": {
      "image/png": "[encoded data removed]",
      "text/plain": [
       "<Figure size 432x288 with 1 Axes>"
      ]
     },
     "metadata": {
      "needs_background": "light"
     },
     "output_type": "display_data"
    },
    {
     "data": {
      "image/png": "[encoded data removed]",
      "text/plain": [
       "<Figure size 432x288 with 1 Axes>"
      ]
     },
     "metadata": {
      "needs_background": "light"
     },
     "output_type": "display_data"
    },
    {
     "data": {
      "image/png": "[encoded data removed]",
      "text/plain": [
       "<Figure size 432x288 with 1 Axes>"
      ]
     },
     "metadata": {
      "needs_background": "light"
     },
     "output_type": "display_data"
    },
    {
     "data": {
      "image/png": "[encoded data removed]",
      "text/plain": [
       "<Figure size 432x288 with 1 Axes>"
      ]
     },
     "metadata": {
      "needs_background": "light"
     },
     "output_type": "display_data"
    },
    {
     "data": {
      "image/png": "[encoded data removed]",
      "text/plain": [
       "<Figure size 432x288 with 1 Axes>"
      ]
     },
     "metadata": {
      "needs_background": "light"
     },
     "output_type": "display_data"
    },
    {
     "data": {
      "image/png": "[encoded data removed]",
      "text/plain": [
       "<Figure size 432x288 with 1 Axes>"
      ]
     },
     "metadata": {
      "needs_background": "light"
     },
     "output_type": "display_data"
    }
   ],
   "source": [
    "for col in cars.describe().columns:\n",
    "    cars[col].plot.hist()\n",
    "    plt.show()"
   ]
  },
  {
   "cell_type": "markdown",
   "metadata": {},
   "source": [
    "The columns that might serve to train the model need to be of numerical type and without null values. "
   ]
  },
  {
   "cell_type": "code",
   "execution_count": 8,
   "metadata": {},
   "outputs": [],
   "source": [
    "# remove of the ? in the dataframe\n",
    "cars = cars.replace('?',np.nan)"
   ]
  },
  {
   "cell_type": "code",
   "execution_count": 9,
   "metadata": {
    "tags": []
   },
   "outputs": [
    {
     "data": {
      "text/html": [
       "<div>\n",
       "<style scoped>\n",
       "    .dataframe tbody tr th:only-of-type {\n",
       "        vertical-align: middle;\n",
       "    }\n",
       "\n",
       "    .dataframe tbody tr th {\n",
       "        vertical-align: top;\n",
       "    }\n",
       "\n",
       "    .dataframe thead th {\n",
       "        text-align: right;\n",
       "    }\n",
       "</style>\n",
       "<table border=\"1\" class=\"dataframe\">\n",
       "  <thead>\n",
       "    <tr style=\"text-align: right;\">\n",
       "      <th></th>\n",
       "      <th>symboling</th>\n",
       "      <th>normalized_losses</th>\n",
       "      <th>brand</th>\n",
       "      <th>fuel</th>\n",
       "      <th>aspiration</th>\n",
       "      <th>doors</th>\n",
       "      <th>body_style</th>\n",
       "      <th>drive_wheels</th>\n",
       "      <th>eng_loc</th>\n",
       "      <th>wheel_base</th>\n",
       "      <th>lenght</th>\n",
       "      <th>width</th>\n",
       "      <th>height</th>\n",
       "      <th>curb_weight</th>\n",
       "      <th>eng_type</th>\n",
       "      <th>cylinders</th>\n",
       "      <th>eng_size</th>\n",
       "      <th>fuel_system</th>\n",
       "      <th>bore</th>\n",
       "      <th>stroke</th>\n",
       "      <th>compression_ratio</th>\n",
       "      <th>horsepower</th>\n",
       "      <th>peak_rpm</th>\n",
       "      <th>city_mpg</th>\n",
       "      <th>highway_mpg</th>\n",
       "      <th>price</th>\n",
       "    </tr>\n",
       "  </thead>\n",
       "  <tbody>\n",
       "    <tr>\n",
       "      <th>0</th>\n",
       "      <td>3</td>\n",
       "      <td>NaN</td>\n",
       "      <td>alfa-romero</td>\n",
       "      <td>gas</td>\n",
       "      <td>std</td>\n",
       "      <td>two</td>\n",
       "      <td>convertible</td>\n",
       "      <td>rwd</td>\n",
       "      <td>front</td>\n",
       "      <td>88.6</td>\n",
       "      <td>168.8</td>\n",
       "      <td>64.1</td>\n",
       "      <td>48.8</td>\n",
       "      <td>2548</td>\n",
       "      <td>dohc</td>\n",
       "      <td>four</td>\n",
       "      <td>130</td>\n",
       "      <td>mpfi</td>\n",
       "      <td>3.47</td>\n",
       "      <td>2.68</td>\n",
       "      <td>9.0</td>\n",
       "      <td>111</td>\n",
       "      <td>5000</td>\n",
       "      <td>21</td>\n",
       "      <td>27</td>\n",
       "      <td>13495</td>\n",
       "    </tr>\n",
       "    <tr>\n",
       "      <th>1</th>\n",
       "      <td>3</td>\n",
       "      <td>NaN</td>\n",
       "      <td>alfa-romero</td>\n",
       "      <td>gas</td>\n",
       "      <td>std</td>\n",
       "      <td>two</td>\n",
       "      <td>convertible</td>\n",
       "      <td>rwd</td>\n",
       "      <td>front</td>\n",
       "      <td>88.6</td>\n",
       "      <td>168.8</td>\n",
       "      <td>64.1</td>\n",
       "      <td>48.8</td>\n",
       "      <td>2548</td>\n",
       "      <td>dohc</td>\n",
       "      <td>four</td>\n",
       "      <td>130</td>\n",
       "      <td>mpfi</td>\n",
       "      <td>3.47</td>\n",
       "      <td>2.68</td>\n",
       "      <td>9.0</td>\n",
       "      <td>111</td>\n",
       "      <td>5000</td>\n",
       "      <td>21</td>\n",
       "      <td>27</td>\n",
       "      <td>16500</td>\n",
       "    </tr>\n",
       "    <tr>\n",
       "      <th>2</th>\n",
       "      <td>1</td>\n",
       "      <td>NaN</td>\n",
       "      <td>alfa-romero</td>\n",
       "      <td>gas</td>\n",
       "      <td>std</td>\n",
       "      <td>two</td>\n",
       "      <td>hatchback</td>\n",
       "      <td>rwd</td>\n",
       "      <td>front</td>\n",
       "      <td>94.5</td>\n",
       "      <td>171.2</td>\n",
       "      <td>65.5</td>\n",
       "      <td>52.4</td>\n",
       "      <td>2823</td>\n",
       "      <td>ohcv</td>\n",
       "      <td>six</td>\n",
       "      <td>152</td>\n",
       "      <td>mpfi</td>\n",
       "      <td>2.68</td>\n",
       "      <td>3.47</td>\n",
       "      <td>9.0</td>\n",
       "      <td>154</td>\n",
       "      <td>5000</td>\n",
       "      <td>19</td>\n",
       "      <td>26</td>\n",
       "      <td>16500</td>\n",
       "    </tr>\n",
       "    <tr>\n",
       "      <th>3</th>\n",
       "      <td>2</td>\n",
       "      <td>164</td>\n",
       "      <td>audi</td>\n",
       "      <td>gas</td>\n",
       "      <td>std</td>\n",
       "      <td>four</td>\n",
       "      <td>sedan</td>\n",
       "      <td>fwd</td>\n",
       "      <td>front</td>\n",
       "      <td>99.8</td>\n",
       "      <td>176.6</td>\n",
       "      <td>66.2</td>\n",
       "      <td>54.3</td>\n",
       "      <td>2337</td>\n",
       "      <td>ohc</td>\n",
       "      <td>four</td>\n",
       "      <td>109</td>\n",
       "      <td>mpfi</td>\n",
       "      <td>3.19</td>\n",
       "      <td>3.40</td>\n",
       "      <td>10.0</td>\n",
       "      <td>102</td>\n",
       "      <td>5500</td>\n",
       "      <td>24</td>\n",
       "      <td>30</td>\n",
       "      <td>13950</td>\n",
       "    </tr>\n",
       "    <tr>\n",
       "      <th>4</th>\n",
       "      <td>2</td>\n",
       "      <td>164</td>\n",
       "      <td>audi</td>\n",
       "      <td>gas</td>\n",
       "      <td>std</td>\n",
       "      <td>four</td>\n",
       "      <td>sedan</td>\n",
       "      <td>4wd</td>\n",
       "      <td>front</td>\n",
       "      <td>99.4</td>\n",
       "      <td>176.6</td>\n",
       "      <td>66.4</td>\n",
       "      <td>54.3</td>\n",
       "      <td>2824</td>\n",
       "      <td>ohc</td>\n",
       "      <td>five</td>\n",
       "      <td>136</td>\n",
       "      <td>mpfi</td>\n",
       "      <td>3.19</td>\n",
       "      <td>3.40</td>\n",
       "      <td>8.0</td>\n",
       "      <td>115</td>\n",
       "      <td>5500</td>\n",
       "      <td>18</td>\n",
       "      <td>22</td>\n",
       "      <td>17450</td>\n",
       "    </tr>\n",
       "  </tbody>\n",
       "</table>\n",
       "</div>"
      ],
      "text/plain": [
       "   symboling normalized_losses        brand fuel aspiration doors  \\\n",
       "0          3               NaN  alfa-romero  gas        std   two   \n",
       "1          3               NaN  alfa-romero  gas        std   two   \n",
       "2          1               NaN  alfa-romero  gas        std   two   \n",
       "3          2               164         audi  gas        std  four   \n",
       "4          2               164         audi  gas        std  four   \n",
       "\n",
       "    body_style drive_wheels eng_loc  wheel_base  lenght  width  height  \\\n",
       "0  convertible          rwd   front        88.6   168.8   64.1    48.8   \n",
       "1  convertible          rwd   front        88.6   168.8   64.1    48.8   \n",
       "2    hatchback          rwd   front        94.5   171.2   65.5    52.4   \n",
       "3        sedan          fwd   front        99.8   176.6   66.2    54.3   \n",
       "4        sedan          4wd   front        99.4   176.6   66.4    54.3   \n",
       "\n",
       "   curb_weight eng_type cylinders  eng_size fuel_system  bore stroke  \\\n",
       "0         2548     dohc      four       130        mpfi  3.47   2.68   \n",
       "1         2548     dohc      four       130        mpfi  3.47   2.68   \n",
       "2         2823     ohcv       six       152        mpfi  2.68   3.47   \n",
       "3         2337      ohc      four       109        mpfi  3.19   3.40   \n",
       "4         2824      ohc      five       136        mpfi  3.19   3.40   \n",
       "\n",
       "   compression_ratio horsepower peak_rpm  city_mpg  highway_mpg  price  \n",
       "0                9.0        111     5000        21           27  13495  \n",
       "1                9.0        111     5000        21           27  16500  \n",
       "2                9.0        154     5000        19           26  16500  \n",
       "3               10.0        102     5500        24           30  13950  \n",
       "4                8.0        115     5500        18           22  17450  "
      ]
     },
     "execution_count": 9,
     "metadata": {},
     "output_type": "execute_result"
    }
   ],
   "source": [
    "cars.head()"
   ]
  },
  {
   "cell_type": "code",
   "execution_count": 10,
   "metadata": {
    "tags": []
   },
   "outputs": [],
   "source": [
    "# transform data type of the following coloumns explored with df.columns()\n",
    "#col we gonna used as potentiel features to train regression model\n",
    "col_numeric=['normalized_losses','wheel_base','lenght', 'width', 'height', 'curb_weight','eng_size','bore', 'stroke', 'compression_ratio',\n",
    "       'horsepower', 'peak_rpm', 'city_mpg', 'highway_mpg', 'price']\n",
    "       \n",
    "numeric_cars=cars[col_numeric].astype(float)"
   ]
  },
  {
   "cell_type": "code",
   "execution_count": 11,
   "metadata": {
    "tags": []
   },
   "outputs": [
    {
     "name": "stdout",
     "output_type": "stream",
     "text": [
      "<class 'pandas.core.frame.DataFrame'>\n",
      "RangeIndex: 205 entries, 0 to 204\n",
      "Data columns (total 15 columns):\n",
      " #   Column             Non-Null Count  Dtype  \n",
      "---  ------             --------------  -----  \n",
      " 0   normalized_losses  164 non-null    float64\n",
      " 1   wheel_base         205 non-null    float64\n",
      " 2   lenght             205 non-null    float64\n",
      " 3   width              205 non-null    float64\n",
      " 4   height             205 non-null    float64\n",
      " 5   curb_weight        205 non-null    float64\n",
      " 6   eng_size           205 non-null    float64\n",
      " 7   bore               201 non-null    float64\n",
      " 8   stroke             201 non-null    float64\n",
      " 9   compression_ratio  205 non-null    float64\n",
      " 10  horsepower         203 non-null    float64\n",
      " 11  peak_rpm           203 non-null    float64\n",
      " 12  city_mpg           205 non-null    float64\n",
      " 13  highway_mpg        205 non-null    float64\n",
      " 14  price              201 non-null    float64\n",
      "dtypes: float64(15)\n",
      "memory usage: 24.1 KB\n"
     ]
    }
   ],
   "source": [
    "numeric_cars.info()"
   ]
  },
  {
   "cell_type": "code",
   "execution_count": 12,
   "metadata": {
    "tags": []
   },
   "outputs": [
    {
     "data": {
      "text/plain": [
       "normalized_losses    37\n",
       "wheel_base            0\n",
       "lenght                0\n",
       "width                 0\n",
       "height                0\n",
       "curb_weight           0\n",
       "eng_size              0\n",
       "bore                  4\n",
       "stroke                4\n",
       "compression_ratio     0\n",
       "horsepower            2\n",
       "peak_rpm              2\n",
       "city_mpg              0\n",
       "highway_mpg           0\n",
       "price                 0\n",
       "dtype: int64"
      ]
     },
     "execution_count": 12,
     "metadata": {},
     "output_type": "execute_result"
    }
   ],
   "source": [
    "#as we wanna guess the price, we remove the rows with empty price\n",
    "#subset argument in .dropna is to define the criteria => if empty value in col price then remove the row....\n",
    "numeric_cars= numeric_cars.dropna(subset=['price'])\n",
    "numeric_cars.isnull().sum()"
   ]
  },
  {
   "cell_type": "code",
   "execution_count": 13,
   "metadata": {
    "tags": []
   },
   "outputs": [
    {
     "data": {
      "text/plain": [
       "normalized_losses    0\n",
       "wheel_base           0\n",
       "lenght               0\n",
       "width                0\n",
       "height               0\n",
       "curb_weight          0\n",
       "eng_size             0\n",
       "bore                 0\n",
       "stroke               0\n",
       "compression_ratio    0\n",
       "horsepower           0\n",
       "peak_rpm             0\n",
       "city_mpg             0\n",
       "highway_mpg          0\n",
       "price                0\n",
       "dtype: int64"
      ]
     },
     "execution_count": 13,
     "metadata": {},
     "output_type": "execute_result"
    }
   ],
   "source": [
    "#fill up the rest of the Nan values with the averages of the col using the df.fillna() function. \n",
    "numeric_cars = numeric_cars.fillna(numeric_cars.mean())\n",
    "numeric_cars.isnull().sum()"
   ]
  },
  {
   "cell_type": "code",
   "execution_count": 14,
   "metadata": {
    "tags": []
   },
   "outputs": [
    {
     "data": {
      "text/plain": [
       "normalized_losses    0\n",
       "wheel_base           0\n",
       "lenght               0\n",
       "width                0\n",
       "height               0\n",
       "curb_weight          0\n",
       "eng_size             0\n",
       "bore                 0\n",
       "stroke               0\n",
       "compression_ratio    0\n",
       "horsepower           0\n",
       "peak_rpm             0\n",
       "city_mpg             0\n",
       "highway_mpg          0\n",
       "price                0\n",
       "dtype: int64"
      ]
     },
     "execution_count": 14,
     "metadata": {},
     "output_type": "execute_result"
    }
   ],
   "source": [
    "#normalisation of the df with (X-Xmin)/(Xmax-Xmin)\n",
    "numeric_cars=(numeric_cars-numeric_cars.min())/(numeric_cars.max()-numeric_cars.min())\n",
    "#price col is still the same \n",
    "numeric_cars['price'] = cars['price'].astype(float)\n",
    "numeric_cars.isnull().sum()"
   ]
  },
  {
   "cell_type": "markdown",
   "metadata": {
    "tags": []
   },
   "source": [
    "## Univariate linear regression"
   ]
  },
  {
   "cell_type": "code",
   "execution_count": 15,
   "metadata": {
    "tags": []
   },
   "outputs": [],
   "source": [
    "from sklearn.neighbors import KNeighborsRegressor\n",
    "from sklearn.metrics import mean_squared_error\n",
    "\n",
    "\n",
    "# creation KNN model \n",
    "def knn_train_test(df, col_train, col_target,k=5):\n",
    "\n",
    "    #randomisation of the df and reindexing\n",
    "    shuffled_index=np.random.permutation(df.index)\n",
    "    rand_df=df.reindex(shuffled_index)\n",
    "    #split the dataset in the training dataset and the test dataset (75% 25%)\n",
    "    train_df=df.iloc[0:int(len(df)*0.75)]\n",
    "    test_df=df.iloc[int(len(df)*0.75):]\n",
    "    \n",
    "    #training model \n",
    "    knn = KNeighborsRegressor(n_neighbors=k)\n",
    "    knn.fit(train_df[[col_train]],train_df[col_target])\n",
    "    \n",
    "    #prediction\n",
    "    predictions = knn.predict(test_df[[col_train]])\n",
    "    \n",
    "    #report error true values vs predictions\n",
    "    mse = mean_squared_error(test_df[col_target],predictions)\n",
    "    rmse = np.sqrt(mse)\n",
    "    \n",
    "    return rmse"
   ]
  },
  {
   "cell_type": "code",
   "execution_count": 16,
   "metadata": {},
   "outputs": [
    {
     "name": "stdout",
     "output_type": "stream",
     "text": [
      "min rmse for normalized_losses is 7297 $ for k = 9\n",
      "min rmse for wheel_base is 3367 $ for k = 1\n",
      "min rmse for lenght is 5101 $ for k = 9\n",
      "min rmse for width is 3361 $ for k = 7\n",
      "min rmse for height is 5494 $ for k = 9\n",
      "min rmse for curb_weight is 2467 $ for k = 5\n",
      "min rmse for eng_size is 3091 $ for k = 9\n",
      "min rmse for bore is 6517 $ for k = 9\n",
      "min rmse for stroke is 4827 $ for k = 9\n",
      "min rmse for compression_ratio is 4311 $ for k = 3\n",
      "min rmse for horsepower is 3660 $ for k = 9\n",
      "min rmse for peak_rpm is 6643 $ for k = 9\n",
      "min rmse for city_mpg is 3292 $ for k = 9\n",
      "min rmse for highway_mpg is 2357 $ for k = 9\n"
     ]
    },
    {
     "data": {
      "image/png": "[encoded data removed]",
      "text/plain": [
       "<Figure size 720x576 with 1 Axes>"
      ]
     },
     "metadata": {
      "needs_background": "light"
     },
     "output_type": "display_data"
    }
   ],
   "source": [
    "#selection of the columns as features\n",
    "train_cols = numeric_cars.columns.drop('price')\n",
    "\n",
    "#the different k values we gonna test\n",
    "hp_k_values = [1,3,5,7,9]\n",
    "\n",
    "#for the final plot\n",
    "plt.figure(figsize=(10,8))\n",
    "\n",
    "#loop through the numeric columns\n",
    "for col in train_cols: \n",
    "    rmse_values=list()\n",
    "    min_rmse=0\n",
    "    k_min_rmse=0\n",
    "\n",
    "    #loop throught a range value for the hyper parameter k\n",
    "    for k in hp_k_values:\n",
    "        rmse=knn_train_test(numeric_cars, col ,'price',k)\n",
    "        rmse_values.append(rmse)\n",
    "        \n",
    "        if rmse < min_rmse or min_rmse ==0:\n",
    "            min_rmse=rmse\n",
    "            k_min_rmse=k\n",
    "         \n",
    "    print('min rmse for {0} is {1} $ for k = {2}'.format(col,int(min_rmse),k_min_rmse))  \n",
    "   \n",
    "    #plotting\n",
    "    plt.plot(hp_k_values,rmse_values,label=col)\n",
    "plt.ylabel(\"RMSE (dollars $)\")\n",
    "plt.xlabel(\"k value\")\n",
    "plt.title(\"RMSE univariate linear regression\")\n",
    "plt.xticks(hp_k_values)\n",
    "plt.legend()\n",
    "plt.savefig('rmse_univariate.jpg')"
   ]
  },
  {
   "cell_type": "markdown",
   "metadata": {},
   "source": [
    "so the 4 best variables to predict the sale prices of car are in order=\n",
    "- highway_mpg using k = 9\n",
    "- curb_weight using k = 5\n",
    "- eng_size with k = 9\n",
    "- city_mpg with k = 9\n",
    "- width with k = 7\n",
    "\n",
    "let's select these features gradually for training and test different k values again:"
   ]
  },
  {
   "cell_type": "markdown",
   "metadata": {},
   "source": [
    "## Multivariate linear  regression"
   ]
  },
  {
   "cell_type": "code",
   "execution_count": 17,
   "metadata": {},
   "outputs": [],
   "source": [
    "# creation KNN model \n",
    "def knn_train_test_multivariate(df, col_train, col_target,k=5):\n",
    "\n",
    "    #randomisation of the df and reindexing\n",
    "    shuffled_index=np.random.permutation(df.index)\n",
    "    rand_df=df.reindex(shuffled_index)\n",
    "    \n",
    "    #split the dataset in the training and the test dataset (75% 25%)\n",
    "    train_df=df.iloc[0:int(len(df)*0.75)]\n",
    "    test_df=df.iloc[int(len(df)*0.75):]\n",
    "    \n",
    "    #training model \n",
    "    knn = KNeighborsRegressor(n_neighbors=k)\n",
    "    knn.fit(train_df[col_train],train_df[col_target])\n",
    "    \n",
    "    #prediction\n",
    "    predictions = knn.predict(test_df[col_train])\n",
    "    \n",
    "    #report error true values vs predictions\n",
    "    mse = mean_squared_error(test_df[col_target],predictions)\n",
    "    rmse = np.sqrt(mse)\n",
    "    \n",
    "    return rmse"
   ]
  },
  {
   "cell_type": "code",
   "execution_count": 18,
   "metadata": {},
   "outputs": [],
   "source": [
    "#features sets\n",
    "two_features=['highway_mpg','curb_weight']\n",
    "three_features=['highway_mpg','curb_weight','eng_size']\n",
    "four_features=['highway_mpg','curb_weight','eng_size','city_mpg']\n",
    "five_features=['highway_mpg','curb_weight','eng_size','city_mpg','width']"
   ]
  },
  {
   "cell_type": "code",
   "execution_count": 19,
   "metadata": {},
   "outputs": [
    {
     "name": "stdout",
     "output_type": "stream",
     "text": [
      "the rmse = 3071$ for ['highway_mpg', 'curb_weight']\n",
      "the rmse = 2735$ for ['highway_mpg', 'curb_weight', 'eng_size']\n",
      "the rmse = 2332$ for ['highway_mpg', 'curb_weight', 'eng_size', 'city_mpg']\n",
      "the rmse = 2208$ for ['highway_mpg', 'curb_weight', 'eng_size', 'city_mpg', 'width']\n"
     ]
    }
   ],
   "source": [
    "#run the predictions\n",
    "for features in two_features,three_features,four_features,five_features:\n",
    "    rmse= knn_train_test_multivariate(numeric_cars, features ,'price',5)\n",
    "    print('the rmse = {1}$ for {0}'.format(features, int(rmse)))"
   ]
  },
  {
   "cell_type": "markdown",
   "metadata": {},
   "source": [
    "So best rmse is best when using the 3,4 or 5 features but what about the k value? "
   ]
  },
  {
   "cell_type": "markdown",
   "metadata": {},
   "source": [
    "## Optimizing the hyperparameter k\n",
    "The grid search for k value will be from 1 to 25 for the 3 best set of features "
   ]
  },
  {
   "cell_type": "code",
   "execution_count": 20,
   "metadata": {},
   "outputs": [
    {
     "name": "stdout",
     "output_type": "stream",
     "text": [
      "min rmse for ['highway_mpg', 'curb_weight', 'eng_size'] is 2327 $ for k = 22\n",
      "min rmse for ['highway_mpg', 'curb_weight', 'eng_size', 'city_mpg'] is 2107 $ for k = 10\n",
      "min rmse for ['highway_mpg', 'curb_weight', 'eng_size', 'city_mpg', 'width'] is 1814 $ for k = 16\n"
     ]
    },
    {
     "data": {
      "image/png": "[encoded data removed]",
      "text/plain": [
       "<Figure size 720x360 with 1 Axes>"
      ]
     },
     "metadata": {
      "needs_background": "light"
     },
     "output_type": "display_data"
    }
   ],
   "source": [
    "hp_k_values = range(1,26)\n",
    "label_legend=['']\n",
    "\n",
    "#for the final plot\n",
    "plt.figure(figsize=(10,5))\n",
    "\n",
    "#loop through the numeric columns\n",
    "for features in three_features,four_features,five_features: \n",
    "    rmse_values=list()\n",
    "    min_rmse=0\n",
    "    k_min_rmse=0\n",
    "\n",
    "    #loop throught a range value for the hyper parameter k\n",
    "    for k in hp_k_values:\n",
    "        rmse=knn_train_test_multivariate(numeric_cars, features ,'price',k)\n",
    "        rmse_values.append(rmse)\n",
    "        \n",
    "        if rmse < min_rmse or min_rmse ==0:\n",
    "            min_rmse=rmse\n",
    "            k_min_rmse=k\n",
    "         \n",
    "    print('min rmse for {0} is {1} $ for k = {2}'.format(features,int(min_rmse),k_min_rmse))  \n",
    "   \n",
    "    #plotting\n",
    "    plt.plot(hp_k_values,rmse_values,label=features)\n",
    "plt.ylabel(\"RMSE (dollars $)\")\n",
    "plt.xlabel(\"k value\")\n",
    "plt.title(\"RMSE multivariate linear regression\")\n",
    "plt.xticks(hp_k_values)\n",
    "plt.yticks([1814,2000,2500,3000,3500,4000])\n",
    "plt.axvline(16,color='black',ls='--',linewidth=0.8)\n",
    "plt.axhline(1814,color='black',ls='--',linewidth=0.8,label='Settings lowest RMSE')\n",
    "plt.legend()\n",
    "plt.savefig('rmse_multivariate.jpg')"
   ]
  },
  {
   "cell_type": "markdown",
   "metadata": {},
   "source": [
    "so the best combination is:\n",
    "- 5 features and k=16 => rmse = 1814$\n",
    "\n",
    "- 4 features and k = 10 =>  rmse = 2107$\n",
    "\n",
    "- 3 features and k=22 => rmse = 2327$\n"
   ]
  },
  {
   "cell_type": "code",
   "execution_count": 21,
   "metadata": {},
   "outputs": [
    {
     "name": "stdout",
     "output_type": "stream",
     "text": [
      "count      201.000000\n",
      "mean     13207.129353\n",
      "std       7947.066342\n",
      "min       5118.000000\n",
      "25%       7775.000000\n",
      "50%      10295.000000\n",
      "75%      16500.000000\n",
      "max      45400.000000\n",
      "Name: price, dtype: float64\n"
     ]
    }
   ],
   "source": [
    "print(numeric_cars['price'].describe())"
   ]
  },
  {
   "cell_type": "code",
   "execution_count": 22,
   "metadata": {},
   "outputs": [
    {
     "name": "stdout",
     "output_type": "stream",
     "text": [
      "0.35443532629933566\n",
      "0.03995594713656388\n"
     ]
    }
   ],
   "source": [
    "print(1814/5118)\n",
    "print(1814/45400)"
   ]
  },
  {
   "cell_type": "code",
   "execution_count": 61,
   "metadata": {},
   "outputs": [
    {
     "data": {
      "image/png": "[encoded data removed]",
      "text/plain": [
       "<Figure size 576x432 with 1 Axes>"
      ]
     },
     "metadata": {
      "needs_background": "light"
     },
     "output_type": "display_data"
    }
   ],
   "source": [
    "all_prices=numeric_cars['price']\n",
    "mean=all_prices.mean()\n",
    "std=all_prices.std()\n",
    "RMSE=1814\n",
    "\n",
    "all_prices.hist(figsize=(8,6),bins=10)\n",
    "plt.axvline(mean,color='black',label='mean')\n",
    "plt.axvline(mean+std,color='orange',label='std dev')\n",
    "\n",
    "plt.axvline(mean+RMSE,color='red',label='min RMSE')\n",
    "plt.legend()\n",
    "plt.title('Distribution of the car prices')\n",
    "plt.ylabel('Frequency')\n",
    "plt.xlabel('Price $')\n",
    "plt.xticks(rotation=45)\n",
    "plt.grid(False)\n",
    "plt.savefig('hist_car_prices.jpg')"
   ]
  },
  {
   "cell_type": "markdown",
   "metadata": {},
   "source": [
    "## Conclusion\n",
    "We managed to build a model who can predict the sale price of a car by approximativey 1800$, this deviation represents:\n",
    "- 35% of the minimum price found in the dataset\n",
    "- 4% of the maximum price found in the dataset\n",
    "\n",
    "The deviation is still quite high (small data set) and aggregating more data might help to decrease it.\n"
   ]
  },
  {
   "cell_type": "markdown",
   "metadata": {},
   "source": [
    "## Updates for the future:\n",
    "\n",
    "- automatise the selection of the best features for univariate model by merging all best results in a pandas DataFrame\n",
    "- modify the function to use the k-fold cross validation instead of splitting the dataset 75-25%\n",
    "- generalize the function for similar datasets by incorporing the data cleaning within the function"
   ]
  }
 ],
 "metadata": {
  "kernelspec": {
   "display_name": "Python 3",
   "language": "python",
   "name": "python3"
  },
  "language_info": {
   "codemirror_mode": {
    "name": "ipython",
    "version": 3
   },
   "file_extension": ".py",
   "mimetype": "text/x-python",
   "name": "python",
   "nbconvert_exporter": "python",
   "pygments_lexer": "ipython3",
   "version": "3.7.6"
  }
 },
 "nbformat": 4,
 "nbformat_minor": 4
}
